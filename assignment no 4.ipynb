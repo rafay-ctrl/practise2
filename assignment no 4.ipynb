{
 "cells": [
  {
   "cell_type": "code",
   "execution_count": 1,
   "metadata": {},
   "outputs": [
    {
     "name": "stdout",
     "output_type": "stream",
     "text": [
      "{'first-name': 'ahmed', 'last-name': 'arsalan', 'age': 21, 'city': 'karachi'}\n"
     ]
    }
   ],
   "source": [
    "#question no 1\n",
    "person={\n",
    "    \"first-name\": \"ahmed\",\n",
    "    \"last-name\": \"arsalan\",\n",
    "    \"age\"      : 21,\n",
    "    \"city\": \"karachi\"\n",
    "}\n",
    "print(person)"
   ]
  },
  {
   "cell_type": "code",
   "execution_count": 7,
   "metadata": {},
   "outputs": [
    {
     "name": "stdout",
     "output_type": "stream",
     "text": [
      "ahmed\n",
      "arsalan\n",
      "21\n",
      "karachi\n"
     ]
    }
   ],
   "source": [
    "print(person[\"first-name\"]) \n",
    "print(person[\"last-name\"])\n",
    "print(person[\"age\"])\n",
    "print(person[\"city\"])"
   ]
  },
  {
   "cell_type": "code",
   "execution_count": 9,
   "metadata": {},
   "outputs": [
    {
     "name": "stdout",
     "output_type": "stream",
     "text": [
      "{'first-name': 'ahmed', 'last-name': 'arsalan', 'age': 21, 'city': 'karachi', 'qualification': 'matric'}\n"
     ]
    }
   ],
   "source": [
    "person[\"qualification\"]=\"matric\"\n",
    "print(person)"
   ]
  },
  {
   "cell_type": "code",
   "execution_count": 10,
   "metadata": {},
   "outputs": [
    {
     "name": "stdout",
     "output_type": "stream",
     "text": [
      "{'first-name': 'ahmed', 'last-name': 'arsalan', 'age': 21, 'city': 'karachi', 'qualification': 'inter'}\n"
     ]
    }
   ],
   "source": [
    "person[\"qualification\"]=\"inter\"\n",
    "print(person)"
   ]
  },
  {
   "cell_type": "code",
   "execution_count": 13,
   "metadata": {},
   "outputs": [
    {
     "name": "stdout",
     "output_type": "stream",
     "text": [
      "{'first-name': 'ahmed', 'last-name': 'arsalan', 'age': 21, 'city': 'karachi'}\n"
     ]
    }
   ],
   "source": [
    "del person[\"qualification\"]\n",
    "print(person)"
   ]
  },
  {
   "cell_type": "code",
   "execution_count": 18,
   "metadata": {},
   "outputs": [
    {
     "name": "stdout",
     "output_type": "stream",
     "text": [
      "{'country': 'pakistan', 'population': 'two crors', 'fact': 'largest revenue for whole pak'}\n",
      "{'country': 'india', 'poulation': 'five crore', 'fact': 'called awaken city'}\n"
     ]
    }
   ],
   "source": [
    "#question no 2\n",
    "cities={\n",
    "    \"karachi\":{\n",
    "        \"country\":\"pakistan\",\n",
    "        \"population\":\"two crors\",\n",
    "        \"fact\":\"largest revenue for whole pak\"\n",
    "        \n",
    "    },\n",
    "    \"mumbai\":\n",
    "    {\n",
    "        \"country\":\"india\",\n",
    "        \"poulation\":\"five crore\",\n",
    "        \"fact\":\"called awaken city\"\n",
    "    }\n",
    "    \n",
    "\n",
    "}\n",
    "print(cities[\"karachi\"])\n",
    "print(cities[\"mumbai\"])"
   ]
  },
  {
   "cell_type": "code",
   "execution_count": 47,
   "metadata": {},
   "outputs": [
    {
     "name": "stdout",
     "output_type": "stream",
     "text": [
      "forty rules of love is my favoritebook\n"
     ]
    }
   ],
   "source": [
    "#question no 4\n",
    "def favorite_book(title):\n",
    "     print(title +\" \"+ \"is my favoritebook\")\n",
    "\n",
    "\n",
    "favorite_book(\"forty rules of love\")\n"
   ]
  },
  {
   "cell_type": "code",
   "execution_count": null,
   "metadata": {},
   "outputs": [],
   "source": [
    "#question no 3\n",
    "age=int(input(\"enter your age\"));\n",
    "\n",
    "if age <3 :\n",
    "    print(\"your ticket price is free\")\n",
    "elif age>3 and <12:\n",
    "    print(\"your ticket price is $10\")\n",
    "elif age>12:\n",
    "    print(\"your ticket price is $15\")\n",
    "else :\n",
    "    print(\"please enter your true age\")\n",
    "    "
   ]
  },
  {
   "cell_type": "code",
   "execution_count": null,
   "metadata": {},
   "outputs": [],
   "source": [
    "#question no 5\n",
    "# guess the number game\n",
    "import randint from random\n",
    "number==random.randint(1,30)\n",
    "\n",
    "def guess():\n",
    "     x=int(input(\"guess any number between 1-30\"))\n",
    "    if guess==number:\n",
    "    print(\"you got it\")\n",
    "    elif guess>number:\n",
    "    print(\"too high\")\n",
    "    elif guess<number:\n",
    "    print(\"two low\")\n",
    "\n",
    "guess()\n"
   ]
  },
  {
   "cell_type": "code",
   "execution_count": null,
   "metadata": {},
   "outputs": [],
   "source": []
  },
  {
   "cell_type": "code",
   "execution_count": null,
   "metadata": {},
   "outputs": [],
   "source": []
  }
 ],
 "metadata": {
  "kernelspec": {
   "display_name": "Python 3",
   "language": "python",
   "name": "python3"
  },
  "language_info": {
   "codemirror_mode": {
    "name": "ipython",
    "version": 3
   },
   "file_extension": ".py",
   "mimetype": "text/x-python",
   "name": "python",
   "nbconvert_exporter": "python",
   "pygments_lexer": "ipython3",
   "version": "3.7.4"
  }
 },
 "nbformat": 4,
 "nbformat_minor": 2
}
