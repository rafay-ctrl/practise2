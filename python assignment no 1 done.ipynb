{
 "cells": [
  {
   "cell_type": "code",
   "execution_count": 2,
   "metadata": {},
   "outputs": [
    {
     "name": "stdout",
     "output_type": "stream",
     "text": [
      "Twinkle twinkle, little star How I wonder what you are Up above the world so high Like a diamond in the sky Twinkle, twinkle, little star,How I wonder what you are\n"
     ]
    }
   ],
   "source": [
    "#question no 1\n",
    "print(\"Twinkle twinkle, little star How I wonder what you are Up above the world so high Like a diamond in the sky Twinkle, twinkle, little star,How I wonder what you are\")"
   ]
  },
  {
   "cell_type": "code",
   "execution_count": 9,
   "metadata": {},
   "outputs": [
    {
     "name": "stdout",
     "output_type": "stream",
     "text": [
      "Python version\n",
      "sys.version_info(major=3, minor=7, micro=4, releaselevel='final', serial=0)\n"
     ]
    }
   ],
   "source": [
    "#question no 2\n",
    "import sys\n",
    "print(\"Python version\")\n",
    "print (sys.version_info)\n"
   ]
  },
  {
   "cell_type": "code",
   "execution_count": 4,
   "metadata": {},
   "outputs": [
    {
     "name": "stdout",
     "output_type": "stream",
     "text": [
      "Today's date: 2019-11-21\n"
     ]
    }
   ],
   "source": [
    "#question no 3\n",
    "from datetime import date\n",
    "today = date.today()\n",
    "print(\"Today's date:\", today)"
   ]
  },
  {
   "cell_type": "code",
   "execution_count": 6,
   "metadata": {},
   "outputs": [
    {
     "name": "stdout",
     "output_type": "stream",
     "text": [
      "enter the radius of circle7\n",
      "38.4895\n"
     ]
    }
   ],
   "source": [
    "#question no 4\n",
    "radius=int(input(\"enter the radius of circle\"));\n",
    "area=(3.142/4)*radius**2;\n",
    "print(area)"
   ]
  },
  {
   "cell_type": "code",
   "execution_count": 7,
   "metadata": {},
   "outputs": [
    {
     "name": "stdout",
     "output_type": "stream",
     "text": [
      "enter your first nameabdul\n",
      "enter your second namerafay\n",
      "rafay abdul\n"
     ]
    }
   ],
   "source": [
    "#question no 5\n",
    "x=input('enter your first name');\n",
    "y=input(\"enter your second name\");\n",
    "z=y+\" \"+x;\n",
    "print(z)"
   ]
  },
  {
   "cell_type": "code",
   "execution_count": 8,
   "metadata": {},
   "outputs": [
    {
     "name": "stdout",
     "output_type": "stream",
     "text": [
      "enter your inputahmed\n",
      "enter your inputnadeem\n",
      "ahmednadeem\n"
     ]
    }
   ],
   "source": [
    "#question no 6\n",
    "x=input(\"enter your input\");\n",
    "y=input(\"enter your input\");\n",
    "z=x+y\n",
    "print(z);"
   ]
  },
  {
   "cell_type": "code",
   "execution_count": null,
   "metadata": {},
   "outputs": [],
   "source": []
  }
 ],
 "metadata": {
  "kernelspec": {
   "display_name": "Python 3",
   "language": "python",
   "name": "python3"
  },
  "language_info": {
   "codemirror_mode": {
    "name": "ipython",
    "version": 3
   },
   "file_extension": ".py",
   "mimetype": "text/x-python",
   "name": "python",
   "nbconvert_exporter": "python",
   "pygments_lexer": "ipython3",
   "version": "3.7.4"
  }
 },
 "nbformat": 4,
 "nbformat_minor": 2
}
