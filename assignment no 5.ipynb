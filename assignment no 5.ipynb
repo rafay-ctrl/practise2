{
 "cells": [
  {
   "cell_type": "code",
   "execution_count": 29,
   "metadata": {},
   "outputs": [
    {
     "name": "stdout",
     "output_type": "stream",
     "text": [
      "720\n"
     ]
    }
   ],
   "source": [
    "#question no 1\n",
    "\n",
    "def fact(n):\n",
    "    f=1\n",
    "    for i in range(1,n+1):\n",
    "        f=f*i\n",
    "    return f\n",
    "n=6\n",
    "result=fact(n)\n",
    "print(result)"
   ]
  },
  {
   "cell_type": "code",
   "execution_count": 31,
   "metadata": {},
   "outputs": [
    {
     "name": "stdout",
     "output_type": "stream",
     "text": [
      "enter any stringRASAF\n",
      "no. of upper case letters: 5\n",
      "no. of lowercase letters: 0\n"
     ]
    }
   ],
   "source": [
    "#question no2 \n",
    "string=str(input(\"enter any string\"))\n",
    "count1=0;\n",
    "count2=0;\n",
    "for i in string :\n",
    "    if (i.islower):\n",
    "        count1=count1 +1\n",
    "    elif(i.islower):\n",
    "        count2=count2+1\n",
    "print(\"no. of upper case letters:\",count1)\n",
    "print(\"no. of lowercase letters:\",count2)"
   ]
  },
  {
   "cell_type": "code",
   "execution_count": 41,
   "metadata": {},
   "outputs": [
    {
     "name": "stdout",
     "output_type": "stream",
     "text": [
      "[2]\n"
     ]
    }
   ],
   "source": [
    "#question no 3\n",
    "def even_numbers(k):\n",
    "    even=[]\n",
    "    for n in k:\n",
    "        if (n%2)==0:\n",
    "            even.append(n)\n",
    "            return even\n",
    "lists=[1,2,3,4,5,6,7,8,9,10,11,12]\n",
    "result=even_numbers(lists)\n",
    "print(result)"
   ]
  },
  {
   "cell_type": "code",
   "execution_count": 15,
   "metadata": {},
   "outputs": [
    {
     "name": "stdout",
     "output_type": "stream",
     "text": [
      "please enter any string :\n",
      "maham\n",
      "string : maham\n",
      "reverse: maham\n",
      "string is palindrome\n",
      "None\n"
     ]
    }
   ],
   "source": [
    "#question no 4\n",
    "\n",
    "def palincheck(str):\n",
    "    rev= str[::-1]\n",
    "    print(\"string :\",str)\n",
    "    print(\"reverse:\",rev)\n",
    "    if (str==rev):\n",
    "         print(\"string is palindrome\")\n",
    "    else:\n",
    "         print(\"not palindrome\")\n",
    "\n",
    "    \n",
    "x=str(input(\"please enter any string :\\n\"))\n",
    "\n",
    "result=palincheck(x)\n",
    "print(result)\n"
   ]
  },
  {
   "cell_type": "code",
   "execution_count": 3,
   "metadata": {},
   "outputs": [
    {
     "name": "stdout",
     "output_type": "stream",
     "text": [
      "enter any string to check its prime or not6\n",
      "6 is not prime\n",
      "None\n"
     ]
    }
   ],
   "source": [
    "#question no 5\n",
    "def primecheck(num):\n",
    "    if num>1:\n",
    "        for i in range(2,num):\n",
    "            if num%i==0:\n",
    "                print(num,\"is not prime\")\n",
    "                break\n",
    "                \n",
    "        else:\n",
    "             print(num,\"is prime number\")\n",
    "    else :\n",
    "        print(\"it is not prime no.\")\n",
    "        \n",
    "num=int(input(\"enter any string to check its prime or not\"))\n",
    "result=primecheck(num)\n",
    "print(result)\n",
    "                    "
   ]
  },
  {
   "cell_type": "code",
   "execution_count": 14,
   "metadata": {},
   "outputs": [
    {
     "name": "stdout",
     "output_type": "stream",
     "text": [
      "welcome to our super market\n",
      "want to add something to your shopping list, y or n?y\n",
      "what item to add in your list:vegetables\n",
      "want to add to your shopping list some more? y or n y\n",
      "['vegetables'] this is your shopping list\n",
      "vegetables\n",
      "what item to add in your list:toothbrush\n",
      "want to add to your shopping list some more? y or n y\n",
      "['vegetables', 'toothbrush'] this is your shopping list\n",
      "vegetables\n",
      "toothbrush\n",
      "what item to add in your list:meat\n",
      "want to add to your shopping list some more? y or n y\n",
      "['vegetables', 'toothbrush', 'meat'] this is your shopping list\n",
      "vegetables\n",
      "toothbrush\n",
      "meat\n",
      "what item to add in your list:pampers\n",
      "want to add to your shopping list some more? y or n n\n",
      "['vegetables', 'toothbrush', 'meat', 'pampers'] this is your shopping list\n",
      "vegetables\n",
      "toothbrush\n",
      "meat\n",
      "pampers\n"
     ]
    }
   ],
   "source": [
    "#question no 6\n",
    "def shoppinglist():\n",
    "    print(\"welcome to our super market\")\n",
    "    shoplist=[]\n",
    "    add=input(\"want to add something to your shopping list, y or n?\")\n",
    "    \n",
    "    while add.lower()==\"y\":\n",
    "        item=input(\"what item to add in your list:\")\n",
    "        shoplist.append(item)\n",
    "        add=input(\"want to add to your shopping list some more? y or n \")\n",
    "        print(shoplist,\"this is your shopping list\")\n",
    "        for listitems in shoplist:\n",
    "            print(listitems)\n",
    "    \n",
    "    \n",
    "shoppinglist()\n",
    "\n"
   ]
  },
  {
   "cell_type": "code",
   "execution_count": null,
   "metadata": {},
   "outputs": [],
   "source": []
  },
  {
   "cell_type": "code",
   "execution_count": null,
   "metadata": {},
   "outputs": [],
   "source": []
  }
 ],
 "metadata": {
  "kernelspec": {
   "display_name": "Python 3",
   "language": "python",
   "name": "python3"
  },
  "language_info": {
   "codemirror_mode": {
    "name": "ipython",
    "version": 3
   },
   "file_extension": ".py",
   "mimetype": "text/x-python",
   "name": "python",
   "nbconvert_exporter": "python",
   "pygments_lexer": "ipython3",
   "version": "3.7.4"
  }
 },
 "nbformat": 4,
 "nbformat_minor": 2
}
